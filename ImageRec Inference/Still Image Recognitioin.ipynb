{
 "cells": [
  {
   "cell_type": "markdown",
   "metadata": {},
   "source": [
    "## Image Recognition from Jetson Inference Tutorials"
   ]
  },
  {
   "cell_type": "markdown",
   "metadata": {},
   "source": [
    "### GIS Bot\n",
    "\n",
    "Will Wagner\n",
    "\n",
    "Converting the Jetson Inference Tutorials to Notebooks"
   ]
  },
  {
   "cell_type": "markdown",
   "metadata": {},
   "source": [
    "## Setting Up the Project"
   ]
  },
  {
   "cell_type": "markdown",
   "metadata": {},
   "source": [
    "Run some version of these commands from a terminal to create the directory and files required:"
   ]
  },
  {
   "cell_type": "raw",
   "metadata": {},
   "source": [
    "$ cd ~/\n",
    "$ mkdir my-recognition-python\n",
    "$ cd my-recognition-python\n",
    "$ touch my-recognition.py\n",
    "$ chmod +x my-recognition.py\n",
    "$ wget https://github.com/dusty-nv/jetson-inference/raw/master/data/images/black_bear.jpg \n",
    "$ wget https://github.com/dusty-nv/jetson-inference/raw/master/data/images/brown_bear.jpg\n",
    "$ wget https://github.com/dusty-nv/jetson-inference/raw/master/data/images/polar_bear.jpg "
   ]
  },
  {
   "cell_type": "markdown",
   "metadata": {},
   "source": [
    "#### Import Modules"
   ]
  },
  {
   "cell_type": "code",
   "execution_count": 1,
   "metadata": {},
   "outputs": [
    {
     "name": "stdout",
     "output_type": "stream",
     "text": [
      "jetson.inference.__init__.py\n",
      "jetson.utils.__init__.py\n"
     ]
    }
   ],
   "source": [
    "import jetson.inference\n",
    "import jetson.utils\n",
    "\n",
    "import argparse"
   ]
  },
  {
   "cell_type": "markdown",
   "metadata": {},
   "source": [
    "###### note: these Jetson modules are installed during the sudo make install step of building the repo.\n",
    "          if you did not run sudo make install, then these packages won't be found when we go to run the example."
   ]
  },
  {
   "cell_type": "code",
   "execution_count": null,
   "metadata": {},
   "outputs": [],
   "source": []
  },
  {
   "cell_type": "code",
   "execution_count": null,
   "metadata": {},
   "outputs": [],
   "source": []
  }
 ],
 "metadata": {
  "kernelspec": {
   "display_name": "Python 3",
   "language": "python",
   "name": "python3"
  },
  "language_info": {
   "codemirror_mode": {
    "name": "ipython",
    "version": 3
   },
   "file_extension": ".py",
   "mimetype": "text/x-python",
   "name": "python",
   "nbconvert_exporter": "python",
   "pygments_lexer": "ipython3",
   "version": "3.6.8"
  }
 },
 "nbformat": 4,
 "nbformat_minor": 2
}
