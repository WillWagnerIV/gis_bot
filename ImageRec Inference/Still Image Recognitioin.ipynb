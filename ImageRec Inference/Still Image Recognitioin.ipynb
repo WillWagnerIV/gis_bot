{
 "cells": [
  {
   "cell_type": "markdown",
   "metadata": {},
   "source": [
    "## Image Recognition from Jetson Inference Tutorials"
   ]
  },
  {
   "cell_type": "markdown",
   "metadata": {},
   "source": [
    "### GIS Bot\n",
    "\n",
    "Will Wagner\n",
    "\n",
    "Converting the Jetson Inference Tutorials to Notebooks"
   ]
  },
  {
   "cell_type": "markdown",
   "metadata": {},
   "source": [
    "## Setting Up the Project"
   ]
  },
  {
   "cell_type": "markdown",
   "metadata": {},
   "source": [
    "Run some version of these commands from a terminal to create the directory and files required:"
   ]
  },
  {
   "cell_type": "raw",
   "metadata": {},
   "source": [
    "$ cd ~/\n",
    "$ mkdir my-recognition-python\n",
    "$ cd my-recognition-python\n",
    "$ touch my-recognition.py\n",
    "$ chmod +x my-recognition.py\n",
    "$ wget https://github.com/dusty-nv/jetson-inference/raw/master/data/images/black_bear.jpg \n",
    "$ wget https://github.com/dusty-nv/jetson-inference/raw/master/data/images/brown_bear.jpg\n",
    "$ wget https://github.com/dusty-nv/jetson-inference/raw/master/data/images/polar_bear.jpg "
   ]
  },
  {
   "cell_type": "markdown",
   "metadata": {},
   "source": [
    "#### Import Modules"
   ]
  },
  {
   "cell_type": "code",
   "execution_count": 2,
   "metadata": {},
   "outputs": [],
   "source": [
    "try:\n",
    "    import jetson.inference\n",
    "    import jetson.utils\n",
    "\n",
    "    import argparse\n",
    "    \n",
    "except:\n",
    "    print (\"These Jetson modules are installed during the sudo make install step of building the repo.\")\n",
    "    print (\"if you did not run sudo make install, then these packages won't be found when we go to run the example.\")\n",
    "    "
   ]
  },
  {
   "cell_type": "markdown",
   "metadata": {},
   "source": [
    "### Get the name of the image from the user:\n"
   ]
  },
  {
   "cell_type": "code",
   "execution_count": 3,
   "metadata": {},
   "outputs": [
    {
     "name": "stdout",
     "output_type": "stream",
     "text": [
      "Enter Filename: brown_bear.jpg\n"
     ]
    }
   ],
   "source": [
    "filename = input (\"Enter Filename: \")"
   ]
  },
  {
   "cell_type": "markdown",
   "metadata": {},
   "source": [
    "### Load the Image into Shared CPU/GPU Memory"
   ]
  },
  {
   "cell_type": "code",
   "execution_count": 4,
   "metadata": {},
   "outputs": [],
   "source": [
    "img, width, height = jetson.utils.loadImageRGBA(filename)"
   ]
  },
  {
   "cell_type": "markdown",
   "metadata": {},
   "source": [
    "### Load the Recognition Network"
   ]
  },
  {
   "cell_type": "code",
   "execution_count": 5,
   "metadata": {},
   "outputs": [],
   "source": [
    "network = \"googlenet\"\n",
    "net = jetson.inference.imageNet(network)"
   ]
  },
  {
   "cell_type": "markdown",
   "metadata": {},
   "source": [
    "### Classify the Image"
   ]
  },
  {
   "cell_type": "code",
   "execution_count": 6,
   "metadata": {},
   "outputs": [],
   "source": [
    "class_idx, confidence = net.Classify(img, width, height)"
   ]
  },
  {
   "cell_type": "markdown",
   "metadata": {},
   "source": [
    "### Find the Object Description"
   ]
  },
  {
   "cell_type": "code",
   "execution_count": 7,
   "metadata": {},
   "outputs": [],
   "source": [
    "class_desc = net.GetClassDesc(class_idx)"
   ]
  },
  {
   "cell_type": "markdown",
   "metadata": {},
   "source": [
    "### Print Out the Result"
   ]
  },
  {
   "cell_type": "code",
   "execution_count": 13,
   "metadata": {},
   "outputs": [
    {
     "name": "stdout",
     "output_type": "stream",
     "text": [
      "Image is recognized as 'brown bear, bruin, Ursus arctos' (class #294) with 99.951172% confidence\n"
     ]
    },
    {
     "data": {
      "application/vnd.jupyter.widget-view+json": {
       "model_id": "30932b76b4174650aa044337b9e84359",
       "version_major": 2,
       "version_minor": 0
      },
      "text/plain": [
       "Image(value=b'\\xff\\xd8\\xff\\xe0\\x00\\x10JFIF\\x00\\x01\\x01\\x01\\x00H\\x00H\\x00\\x00\\xff\\xe1\\x02\\xbaExif\\x00\\x00II*\\x0…"
      ]
     },
     "metadata": {},
     "output_type": "display_data"
    }
   ],
   "source": [
    "print(\"Image is recognized as '{:s}' (class #{:d}) with {:f}% confidence\".format(class_desc, class_idx, confidence * 100))\n",
    "\n",
    "import ipywidgets as widgets\n",
    "\n",
    "file = open(filename, \"rb\")\n",
    "image = file.read()\n",
    "widgets.Image(\n",
    "    value=image,\n",
    "    width=width,\n",
    "    height=height,\n",
    ")"
   ]
  },
  {
   "cell_type": "code",
   "execution_count": null,
   "metadata": {},
   "outputs": [],
   "source": []
  }
 ],
 "metadata": {
  "kernelspec": {
   "display_name": "Python 3",
   "language": "python",
   "name": "python3"
  },
  "language_info": {
   "codemirror_mode": {
    "name": "ipython",
    "version": 3
   },
   "file_extension": ".py",
   "mimetype": "text/x-python",
   "name": "python",
   "nbconvert_exporter": "python",
   "pygments_lexer": "ipython3",
   "version": "3.6.9"
  }
 },
 "nbformat": 4,
 "nbformat_minor": 2
}
